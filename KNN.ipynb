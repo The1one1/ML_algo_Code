{
  "cells": [
    {
      "cell_type": "code",
      "execution_count": 122,
      "metadata": {
        "id": "C9YFecEiJh90"
      },
      "outputs": [],
      "source": [
        "import numpy as np\n",
        "from sklearn.utils import shuffle\n",
        "from sklearn.datasets import make_blobs"
      ]
    },
    {
      "cell_type": "code",
      "execution_count": 123,
      "metadata": {
        "id": "Ej4BEie2abQU"
      },
      "outputs": [],
      "source": [
        "import matplotlib.pyplot as plt\n",
        "import pandas as pd"
      ]
    },
    {
      "cell_type": "code",
      "execution_count": 124,
      "metadata": {
        "id": "GV4df6dZaq6l"
      },
      "outputs": [],
      "source": [
        "X_train, y_train = make_blobs(n_samples=300, centers=2, n_features=2, cluster_std=6, random_state=11)"
      ]
    },
    {
      "cell_type": "code",
      "execution_count": 125,
      "metadata": {
        "colab": {
          "base_uri": "https://localhost:8080/"
        },
        "id": "3tgpBAHZa76q",
        "outputId": "65439f40-9a9e-4247-b370-292777f13e6f"
      },
      "outputs": [
        {
          "name": "stdout",
          "output_type": "stream",
          "text": [
            "[[-7.90664706e-01  5.85288689e+00]\n",
            " [-1.42278973e+01 -1.63273467e+01]\n",
            " [-7.02550174e+00 -1.91142706e+01]\n",
            " [-5.54723596e-01  5.73736868e-01]\n",
            " [-9.57083839e+00 -2.40273008e-01]\n",
            " [ 7.43746588e+00  3.04823550e+00]\n",
            " [-2.30052536e+00  1.14140272e+01]\n",
            " [-1.15747213e+01 -1.03937440e+01]\n",
            " [ 2.55774062e+00  1.37958294e+00]\n",
            " [-1.11517963e+01 -1.00409916e+01]\n",
            " [-6.44431400e+00 -1.15282834e+01]\n",
            " [-1.60535093e+00  8.13041943e+00]\n",
            " [-2.00097810e+00 -1.34659475e+01]\n",
            " [ 8.40562866e+00  6.22580441e+00]\n",
            " [ 5.49601367e+00  1.82514389e+00]\n",
            " [-2.17927845e+00 -3.49751328e+00]\n",
            " [-2.45244074e+00 -6.38120369e+00]\n",
            " [-1.19385803e+01 -1.73955755e+01]\n",
            " [ 2.36233434e+00  2.55012698e+00]\n",
            " [-4.61652357e+00 -1.19386845e+00]\n",
            " [ 1.34366291e+01  2.84032407e+00]\n",
            " [-3.53041243e+00  8.10242692e+00]\n",
            " [-1.06270904e+01 -9.89389062e+00]\n",
            " [-1.79169238e+00  6.71760966e+00]\n",
            " [ 6.88935126e+00  8.47810599e+00]\n",
            " [-9.37498909e+00 -6.58036367e+00]\n",
            " [-7.18392712e+00 -8.44391996e+00]\n",
            " [ 1.67766221e+00 -3.51484229e+00]\n",
            " [-1.64992716e+01 -1.67250268e+01]\n",
            " [ 1.22296659e+01  1.34871754e+00]\n",
            " [-1.24848482e+00  8.05966583e+00]\n",
            " [ 7.17723870e+00  2.90937301e+00]\n",
            " [ 6.20450431e+00  4.81256816e+00]\n",
            " [ 6.81653166e+00 -9.83289660e+00]\n",
            " [ 6.27958495e-01  8.14190994e+00]\n",
            " [ 4.60692329e+00  9.56926763e-01]\n",
            " [ 5.80426835e-01 -1.78836474e+01]\n",
            " [-1.17120442e+01 -1.24648961e+01]\n",
            " [ 7.55696287e+00 -3.81647094e+00]\n",
            " [ 4.17530111e+00  1.79713724e+01]\n",
            " [-2.37170947e+00 -5.17853685e+00]\n",
            " [ 7.79301121e+00 -6.46275328e+00]\n",
            " [-4.51377487e+00 -2.12480604e+00]\n",
            " [ 2.66107972e+00  6.04819180e+00]\n",
            " [-3.65485870e-01  1.06026253e+01]\n",
            " [-3.29810200e+00 -6.87813801e+00]\n",
            " [-1.56757816e+01 -1.83678366e+00]\n",
            " [ 3.27728290e+00 -1.43062933e+01]\n",
            " [-7.81810890e+00 -1.70045724e+01]\n",
            " [-7.53354984e+00 -1.35470073e+01]\n",
            " [-1.14896963e+00 -9.18058257e+00]\n",
            " [-3.69479338e+00  6.70650669e+00]\n",
            " [-1.28757692e+01 -1.22028409e+01]\n",
            " [-1.72363460e+00  4.57209251e+00]\n",
            " [ 2.56022277e+00 -1.63019185e+01]\n",
            " [ 7.79955831e+00 -7.41372877e+00]\n",
            " [ 3.87150803e+00  1.10199391e+01]\n",
            " [-1.32334401e+01 -8.75966583e+00]\n",
            " [-6.96842165e+00 -6.35217600e+00]\n",
            " [ 3.27343636e-01  7.51409457e+00]\n",
            " [-2.76526864e+00  1.44242932e+01]\n",
            " [-4.29240682e+00 -1.82407134e-01]\n",
            " [ 2.88503035e+00  4.87487394e-02]\n",
            " [-1.79764250e+00 -1.55746613e+01]\n",
            " [-7.51195349e+00 -9.38275720e-01]\n",
            " [-7.93728993e+00  8.09664242e+00]\n",
            " [ 5.64566977e+00 -3.09129418e+00]\n",
            " [-1.45662116e+01 -1.64156074e+01]\n",
            " [ 6.65411561e+00  1.06542161e+01]\n",
            " [ 6.01923736e-01  1.12280478e+01]\n",
            " [ 1.79171969e-01 -1.14679550e+01]\n",
            " [ 4.84747154e+00  6.36367546e+00]\n",
            " [ 3.56062148e+00 -7.33865106e+00]\n",
            " [-5.09051697e+00 -8.90357814e+00]\n",
            " [ 7.19842108e+00 -3.67419442e+00]\n",
            " [-2.37208568e+00  5.78151336e-01]\n",
            " [-5.79368171e+00 -3.76634395e+00]\n",
            " [ 2.06615128e+00  5.78039244e+00]\n",
            " [-7.62085812e+00 -1.25294658e+01]\n",
            " [-1.59620392e+00  2.49124432e+00]\n",
            " [-8.42982071e+00 -7.49656844e+00]\n",
            " [-1.11268988e+01 -1.89351078e+01]\n",
            " [-5.26452762e+00 -1.52762565e+00]\n",
            " [-6.16375016e+00  5.83841850e+00]\n",
            " [-2.21750641e+00  5.11346944e+00]\n",
            " [-1.59317256e+01 -1.18739743e+01]\n",
            " [-6.10162037e+00  1.55918497e+00]\n",
            " [ 1.75631640e+00  7.40967348e+00]\n",
            " [-4.02333414e+00 -8.87328999e+00]\n",
            " [-2.30182796e+00 -8.70616312e+00]\n",
            " [-2.38004300e+00 -1.44028693e+00]\n",
            " [-2.27044737e+00  3.99538797e+00]\n",
            " [-7.63480773e+00  5.50483893e+00]\n",
            " [-7.56228689e+00 -1.18432875e+01]\n",
            " [ 1.15477686e-01  1.19285205e+00]\n",
            " [-2.51988827e+00 -2.60064335e+00]\n",
            " [-7.61907471e-01 -1.36606168e+01]\n",
            " [-5.41923905e-01  6.41353232e-01]\n",
            " [-6.53821835e+00  2.53691691e+00]\n",
            " [-1.28994678e+01  4.66173683e+00]\n",
            " [-9.18200260e+00 -8.68744770e+00]\n",
            " [ 9.41674571e+00  4.38231893e+00]\n",
            " [-1.57841891e+01 -2.61181841e+00]\n",
            " [-4.04080154e-01  1.06082827e+01]\n",
            " [ 4.28289963e+00  5.59028877e+00]\n",
            " [-3.83102317e+00  1.71577304e+00]\n",
            " [ 1.10048035e+01  5.84026362e+00]\n",
            " [-1.36705848e+01  1.27858411e+00]\n",
            " [-8.04920549e+00 -3.99668155e-01]\n",
            " [ 5.20282635e+00 -2.15719244e+01]\n",
            " [ 6.46539495e+00  1.58787155e+00]\n",
            " [-9.30199702e+00 -2.55304065e+01]\n",
            " [-5.96404758e+00 -7.98085739e+00]\n",
            " [-7.54998376e+00 -9.61107859e-01]\n",
            " [-5.81575564e+00  7.45871168e+00]\n",
            " [-9.08740922e+00 -1.96601892e+01]\n",
            " [-6.02952415e+00 -1.07691226e+01]\n",
            " [-1.27645326e+01 -1.37174032e+01]\n",
            " [-1.48798882e+00 -9.38972665e+00]\n",
            " [-7.65601930e+00  1.61122696e+00]\n",
            " [-7.82857267e+00  6.76470390e+00]\n",
            " [-9.53313202e+00 -1.11181567e+01]\n",
            " [-1.16966011e+01 -9.13854548e+00]\n",
            " [-2.27587839e+00 -2.05100087e+00]\n",
            " [-1.62289160e+01 -1.34943110e+01]\n",
            " [ 5.90454321e+00  3.18421943e+00]\n",
            " [-1.33258305e+01 -1.53888195e+01]\n",
            " [-8.71541465e+00  7.15102460e+00]\n",
            " [-7.16508490e+00 -2.03871737e+01]\n",
            " [-5.96848754e+00 -4.08104378e+00]\n",
            " [-6.68682148e+00  1.13869141e+00]\n",
            " [-2.74698217e+00 -4.76565411e+00]\n",
            " [-9.58084557e+00  1.70169449e+01]\n",
            " [-5.19837715e+00  9.10685388e-01]\n",
            " [-1.25769395e+00 -9.87931087e+00]\n",
            " [ 3.68369784e+00  7.62438454e+00]\n",
            " [-7.81425221e+00 -5.06293882e+00]\n",
            " [-9.25954160e+00 -1.05348883e+01]\n",
            " [-2.79399419e+00 -5.43709164e+00]\n",
            " [-1.07835858e+00 -1.62630181e+01]\n",
            " [-7.53683945e-01  3.10697352e+00]\n",
            " [-5.67410942e+00 -1.38043253e+01]\n",
            " [ 2.32073901e-01  3.74564753e+00]\n",
            " [-1.21292804e+01 -1.40827339e+00]\n",
            " [-1.20194615e+01 -1.26409522e+01]\n",
            " [-2.04009287e+00 -3.16065370e-01]\n",
            " [ 3.43761616e+00  1.18150750e+00]\n",
            " [ 4.26667071e+00 -1.22523762e+01]\n",
            " [-3.86830192e+00 -1.60041131e+01]\n",
            " [ 3.83160945e+00  2.70725497e+00]\n",
            " [-1.47174998e+01  1.01897367e+01]\n",
            " [-8.86305548e+00  4.15422818e+00]\n",
            " [ 1.29032583e+00  8.86585781e+00]\n",
            " [-8.74164502e+00 -4.05161071e-01]\n",
            " [-1.85119673e+00 -3.71558542e+00]\n",
            " [-3.30772842e+00 -8.06419688e+00]\n",
            " [-8.16104662e+00 -5.17229094e+00]\n",
            " [-1.31679726e+01 -9.50851389e+00]\n",
            " [-6.80860415e+00  1.42977668e+01]\n",
            " [-3.33132157e+00  7.43237724e+00]\n",
            " [-1.74456801e+00  1.22749838e+01]\n",
            " [-2.61412729e+00 -9.16953575e+00]\n",
            " [-1.33261916e+01 -4.83046409e+00]\n",
            " [-5.28062670e+00  1.38616405e+00]\n",
            " [ 2.71101733e+00  1.15920299e+01]\n",
            " [ 1.07445198e-02 -1.59803019e+01]\n",
            " [-5.76667333e+00  1.72425424e+01]\n",
            " [-1.06759658e+01 -2.10602324e+01]\n",
            " [ 9.37147216e-01  2.97420973e+00]\n",
            " [-1.53291541e+01  7.70851591e+00]\n",
            " [-3.33443809e+00 -7.57821155e+00]\n",
            " [ 5.35452933e+00  9.46284512e+00]\n",
            " [-6.32687339e+00  1.03771787e+01]\n",
            " [-5.54695189e+00 -9.82420734e-01]\n",
            " [-8.65558528e+00 -4.09059991e+00]\n",
            " [-8.86332988e+00 -9.88214603e+00]\n",
            " [-8.97552390e-01  7.19192131e+00]\n",
            " [ 8.19812382e+00 -6.79601442e+00]\n",
            " [ 1.01479977e+00  1.04214557e+01]\n",
            " [ 6.54544033e+00 -1.45871187e+01]\n",
            " [-9.61438240e+00 -7.71807916e+00]\n",
            " [-2.04304993e+00  2.66604423e+00]\n",
            " [-5.96749506e+00  5.97014730e+00]\n",
            " [-1.06874107e+00  1.09016705e+01]\n",
            " [-1.75443146e+00  9.54685380e+00]\n",
            " [-1.57010830e+01 -3.95227928e+00]\n",
            " [-1.46252483e+01 -9.78040520e+00]\n",
            " [-8.66514155e+00 -1.25443478e+01]\n",
            " [-5.36917366e+00 -1.39860218e+01]\n",
            " [-7.37976391e+00 -7.44829525e+00]\n",
            " [ 6.60889690e+00  1.71806438e+00]\n",
            " [ 3.35192266e-01 -6.87089555e+00]\n",
            " [-9.57975566e+00 -1.48296668e+01]\n",
            " [-4.34768559e+00 -8.78085587e+00]\n",
            " [ 2.35362094e+00 -1.25703856e+00]\n",
            " [-1.18490495e+00  5.21085242e+00]\n",
            " [-9.25189310e+00 -4.62863259e+00]\n",
            " [ 1.07664978e+01  1.17149918e+00]\n",
            " [ 7.02567526e+00  6.41041212e+00]\n",
            " [-4.74216628e+00 -8.49254313e+00]\n",
            " [ 6.06950444e+00  8.06474144e+00]\n",
            " [ 6.37274548e+00  6.93042048e+00]\n",
            " [-1.54172998e-04 -1.50830831e+00]\n",
            " [ 5.92164123e+00  2.12994157e+00]\n",
            " [-4.59515909e+00  5.03594920e+00]\n",
            " [-2.25832415e+00 -1.15737800e+01]\n",
            " [-5.23907145e+00 -1.25879010e+01]\n",
            " [-2.11882861e+00  1.89661456e+00]\n",
            " [-8.94117917e+00 -1.04079546e+01]\n",
            " [-7.41866158e+00  1.55537097e-01]\n",
            " [-3.13967500e+00  8.65353298e+00]\n",
            " [-1.11992342e+00  1.46769407e+00]\n",
            " [ 7.92877694e-01  2.25599390e+00]\n",
            " [ 1.03236383e+00 -1.77960417e+00]\n",
            " [-2.92691977e+00  1.29100052e+01]\n",
            " [-1.50389223e+01 -7.51418225e-01]\n",
            " [-4.82146538e+00  1.42966323e+01]\n",
            " [-1.18786104e+01 -5.23409102e+00]\n",
            " [ 1.35423289e+01  3.80097638e+00]\n",
            " [-2.82293550e+00 -1.37073049e+01]\n",
            " [ 7.14621301e+00 -2.31709211e+00]\n",
            " [ 3.19271208e+00 -2.22935562e+00]\n",
            " [-1.97358188e+00 -1.62690732e-01]\n",
            " [-2.27073213e+00 -2.05485527e+01]\n",
            " [-7.98066019e+00 -3.57239848e-01]\n",
            " [-7.50925817e+00 -1.18937137e+01]\n",
            " [ 2.60151374e+00  5.44739711e+00]\n",
            " [-1.41791419e+01 -1.39002698e+01]\n",
            " [ 1.16628351e+00  7.62344145e+00]\n",
            " [ 1.35304215e+00 -1.53957243e+01]\n",
            " [ 8.78459722e+00 -5.30528890e+00]\n",
            " [-2.60455900e+00  1.40762688e+01]\n",
            " [ 8.60003630e-01 -1.46688918e+01]\n",
            " [-9.78595718e+00  8.49547188e+00]\n",
            " [ 1.31658938e-01 -6.40756488e+00]\n",
            " [-2.05690878e+01 -7.57058992e+00]\n",
            " [-7.42912483e+00 -9.05946492e+00]\n",
            " [-2.13550098e+00 -6.59283255e+00]\n",
            " [-3.20966297e+00  8.16727419e+00]\n",
            " [-5.61682615e+00 -9.26766031e+00]\n",
            " [ 2.33718755e+00  7.36599236e+00]\n",
            " [-1.65182899e+01 -1.97945479e+01]\n",
            " [-1.32170235e+01 -7.81169163e+00]\n",
            " [-9.08592837e+00  5.99454772e+00]\n",
            " [-3.29529191e+00 -1.01469170e+01]\n",
            " [-1.28223729e-01 -8.55949037e+00]\n",
            " [-1.20745402e+01 -1.44381589e+01]\n",
            " [-1.22843841e+01 -1.36103340e+01]\n",
            " [ 3.19369318e+00  6.11835769e-01]\n",
            " [-8.97186420e+00 -5.93020484e-01]\n",
            " [ 2.70185262e+00  1.63783112e+01]\n",
            " [-1.98685915e+00  7.07408508e+00]\n",
            " [-1.82180375e+01 -9.95029068e+00]\n",
            " [-4.25908689e+00  1.90238463e+01]\n",
            " [ 2.77353104e+00 -9.53916727e+00]\n",
            " [-6.58105675e+00 -1.37111749e+01]\n",
            " [ 9.08900700e+00  4.32601375e+00]\n",
            " [-1.12017529e+01 -7.52339194e+00]\n",
            " [-5.33354971e+00 -1.99694208e+00]\n",
            " [ 7.11663760e+00  2.09419829e+00]\n",
            " [-2.25891537e+00 -2.16709788e+00]\n",
            " [-7.31070800e+00  8.12657442e+00]\n",
            " [-1.02609691e+01 -5.41565015e+00]\n",
            " [-1.40119038e+01  9.01607623e+00]\n",
            " [-2.38387336e-01 -1.01564820e+01]\n",
            " [ 2.85662499e+00  2.63227514e+00]\n",
            " [-2.56641708e+00 -1.62224870e+01]\n",
            " [ 9.62751384e+00  1.46932855e-01]\n",
            " [-6.10103684e-01 -4.07324107e+00]\n",
            " [-2.83248900e+00 -7.38745716e+00]\n",
            " [-1.58595721e+01 -1.74483333e+00]\n",
            " [-5.86074041e+00 -9.22846520e+00]\n",
            " [-7.51784984e+00 -9.36805567e+00]\n",
            " [-4.88532966e+00 -1.43327300e+01]\n",
            " [-2.22793934e+01 -4.09468818e-02]\n",
            " [-2.25651236e+00 -6.24334211e+00]\n",
            " [ 1.49379377e+00 -2.55899777e+00]\n",
            " [-2.47045693e+00  1.18638527e+00]\n",
            " [ 5.84775704e-01 -6.93042182e+00]\n",
            " [ 1.36359102e+00  1.25157643e+01]\n",
            " [ 2.94615487e-01 -7.00183325e+00]\n",
            " [-7.24596771e+00 -7.29837034e+00]\n",
            " [-3.54990962e+00  5.80206005e+00]\n",
            " [-3.86029479e+00 -9.42048041e+00]\n",
            " [-9.73332444e+00  9.70075431e+00]\n",
            " [-1.05352735e+01 -7.73999089e+00]\n",
            " [-2.87230132e+00 -8.41291995e-01]\n",
            " [-1.24260318e+00 -1.71949372e+01]\n",
            " [-5.86522186e+00  1.55778127e+00]\n",
            " [-1.55874614e+01 -8.29728371e+00]\n",
            " [ 1.41937754e+00  6.27606514e+00]\n",
            " [-3.91490555e+00 -2.20175078e+01]\n",
            " [ 3.19114887e+00  4.85490624e+00]\n",
            " [-6.80061761e+00 -1.20897537e+01]\n",
            " [-1.34273264e+01 -1.58863011e+01]\n",
            " [-2.11761849e+00 -6.23928870e+00]\n",
            " [-7.96637266e+00 -6.13666853e+00]\n",
            " [ 5.47452836e+00 -5.48626467e+00]\n",
            " [-7.46316527e+00 -1.30542225e+01]\n",
            " [-1.86889498e+01 -4.40816392e+00]]\n"
          ]
        }
      ],
      "source": [
        "print(X_train)"
      ]
    },
    {
      "cell_type": "code",
      "execution_count": 126,
      "metadata": {
        "id": "tYjnl08QefGP"
      },
      "outputs": [],
      "source": [
        "df = pd.DataFrame(X_train, columns = ['x', 'y']).assign(label = y_train)"
      ]
    },
    {
      "cell_type": "code",
      "execution_count": 127,
      "metadata": {
        "id": "DvV3zfU3bGQA"
      },
      "outputs": [],
      "source": [
        "# df = pd.DataFrame(dict(x = X_train[:, 0], y = X_train[:, 1], label = y_train))"
      ]
    },
    {
      "cell_type": "code",
      "execution_count": 128,
      "metadata": {
        "colab": {
          "base_uri": "https://localhost:8080/",
          "height": 206
        },
        "id": "xpccZyp2bJ2V",
        "outputId": "1e22910f-4a70-4833-fe9b-c14cb333f316"
      },
      "outputs": [
        {
          "data": {
            "text/html": [
              "<div>\n",
              "<style scoped>\n",
              "    .dataframe tbody tr th:only-of-type {\n",
              "        vertical-align: middle;\n",
              "    }\n",
              "\n",
              "    .dataframe tbody tr th {\n",
              "        vertical-align: top;\n",
              "    }\n",
              "\n",
              "    .dataframe thead th {\n",
              "        text-align: right;\n",
              "    }\n",
              "</style>\n",
              "<table border=\"1\" class=\"dataframe\">\n",
              "  <thead>\n",
              "    <tr style=\"text-align: right;\">\n",
              "      <th></th>\n",
              "      <th>x</th>\n",
              "      <th>y</th>\n",
              "      <th>label</th>\n",
              "    </tr>\n",
              "  </thead>\n",
              "  <tbody>\n",
              "    <tr>\n",
              "      <th>0</th>\n",
              "      <td>-0.790665</td>\n",
              "      <td>5.852887</td>\n",
              "      <td>1</td>\n",
              "    </tr>\n",
              "    <tr>\n",
              "      <th>1</th>\n",
              "      <td>-14.227897</td>\n",
              "      <td>-16.327347</td>\n",
              "      <td>0</td>\n",
              "    </tr>\n",
              "    <tr>\n",
              "      <th>2</th>\n",
              "      <td>-7.025502</td>\n",
              "      <td>-19.114271</td>\n",
              "      <td>0</td>\n",
              "    </tr>\n",
              "    <tr>\n",
              "      <th>3</th>\n",
              "      <td>-0.554724</td>\n",
              "      <td>0.573737</td>\n",
              "      <td>1</td>\n",
              "    </tr>\n",
              "    <tr>\n",
              "      <th>4</th>\n",
              "      <td>-9.570838</td>\n",
              "      <td>-0.240273</td>\n",
              "      <td>0</td>\n",
              "    </tr>\n",
              "  </tbody>\n",
              "</table>\n",
              "</div>"
            ],
            "text/plain": [
              "           x          y  label\n",
              "0  -0.790665   5.852887      1\n",
              "1 -14.227897 -16.327347      0\n",
              "2  -7.025502 -19.114271      0\n",
              "3  -0.554724   0.573737      1\n",
              "4  -9.570838  -0.240273      0"
            ]
          },
          "execution_count": 128,
          "metadata": {},
          "output_type": "execute_result"
        }
      ],
      "source": [
        "df.head()"
      ]
    },
    {
      "cell_type": "markdown",
      "metadata": {
        "id": "AcgMx9wmbNcZ"
      },
      "source": [
        "# Plotting"
      ]
    },
    {
      "cell_type": "code",
      "execution_count": 129,
      "metadata": {
        "colab": {
          "base_uri": "https://localhost:8080/",
          "height": 714
        },
        "id": "HItA1XKqbNGF",
        "outputId": "c4c351e0-cc5a-4214-a967-ab0f9eec581b"
      },
      "outputs": [
        {
          "data": {
            "text/plain": [
              "Text(0, 0.5, 'y_1')"
            ]
          },
          "execution_count": 129,
          "metadata": {},
          "output_type": "execute_result"
        },
        {
          "data": {
            "image/png": "[encoded data removed]",
            "text/plain": [
              "<Figure size 800x800 with 1 Axes>"
            ]
          },
          "metadata": {},
          "output_type": "display_data"
        }
      ],
      "source": [
        "colors = {0: 'blue', 1: 'orange'}\n",
        "\n",
        "fig, ax = plt.subplots(figsize = (8,8))\n",
        "grouped = df.groupby('label')\n",
        "\n",
        "for key, group in grouped:\n",
        "    group.plot(ax = ax, kind = 'scatter', x = 'x', y = 'y', label = key, color = colors[key])\n",
        "\n",
        "plt.xlabel('x_1')\n",
        "plt.ylabel('y_1')"
      ]
    },
    {
      "cell_type": "code",
      "execution_count": 130,
      "metadata": {
        "id": "QQAur84ri63M"
      },
      "outputs": [],
      "source": [
        "# import pandas as pd\n",
        "\n",
        "# # Create a DataFrame\n",
        "# df = pd.DataFrame({\n",
        "#     'label': ['A', 'B', 'A', 'B'],\n",
        "#     'x': [1, 2, 3, 4],\n",
        "#     'y': [5, 6, 7, 8]\n",
        "# })\n",
        "\n",
        "# # Group by 'label'\n",
        "# grouped = df.groupby('label')\n",
        "\n",
        "# # Iterate over the groups\n",
        "# for key, group in grouped:\n",
        "#     print(f\"Key: {key}\")\n",
        "#     print(f\"Group:\\n{group}\\n\")\n",
        "#     print"
      ]
    },
    {
      "cell_type": "code",
      "execution_count": 131,
      "metadata": {
        "id": "muthGVMzp0Rk"
      },
      "outputs": [],
      "source": [
        "from sklearn.model_selection import train_test_split\n",
        "x_train, x_test, y_train, y_test = train_test_split(X_train, y_train, train_size = 0.8, random_state = 0)"
      ]
    },
    {
      "cell_type": "code",
      "execution_count": 132,
      "metadata": {
        "id": "OHQ6-wBYrlgt"
      },
      "outputs": [],
      "source": [
        "from sklearn.preprocessing import StandardScaler\n",
        "ss = StandardScaler()"
      ]
    },
    {
      "cell_type": "code",
      "execution_count": 133,
      "metadata": {
        "id": "W5u8SRkPrt5o"
      },
      "outputs": [],
      "source": [
        "x_train = ss.fit_transform(x_train)\n",
        "x_test = ss.transform(x_test)"
      ]
    },
    {
      "cell_type": "code",
      "execution_count": 134,
      "metadata": {
        "id": "QNwrQXTPr4eO"
      },
      "outputs": [],
      "source": [
        "from sklearn.neighbors import KNeighborsClassifier\n",
        "knn = KNeighborsClassifier(n_neighbors=5, weights = 'distance')"
      ]
    },
    {
      "cell_type": "code",
      "execution_count": 135,
      "metadata": {
        "colab": {
          "base_uri": "https://localhost:8080/",
          "height": 74
        },
        "id": "rObNwIKlstGL",
        "outputId": "92a99375-3fd0-4ec1-9a23-7c0456bdfa90"
      },
      "outputs": [
        {
          "data": {
            "text/html": [
              "<style>#sk-container-id-8 {color: black;}#sk-container-id-8 pre{padding: 0;}#sk-container-id-8 div.sk-toggleable {background-color: white;}#sk-container-id-8 label.sk-toggleable__label {cursor: pointer;display: block;width: 100%;margin-bottom: 0;padding: 0.3em;box-sizing: border-box;text-align: center;}#sk-container-id-8 label.sk-toggleable__label-arrow:before {content: \"▸\";float: left;margin-right: 0.25em;color: #696969;}#sk-container-id-8 label.sk-toggleable__label-arrow:hover:before {color: black;}#sk-container-id-8 div.sk-estimator:hover label.sk-toggleable__label-arrow:before {color: black;}#sk-container-id-8 div.sk-toggleable__content {max-height: 0;max-width: 0;overflow: hidden;text-align: left;background-color: #f0f8ff;}#sk-container-id-8 div.sk-toggleable__content pre {margin: 0.2em;color: black;border-radius: 0.25em;background-color: #f0f8ff;}#sk-container-id-8 input.sk-toggleable__control:checked~div.sk-toggleable__content {max-height: 200px;max-width: 100%;overflow: auto;}#sk-container-id-8 input.sk-toggleable__control:checked~label.sk-toggleable__label-arrow:before {content: \"▾\";}#sk-container-id-8 div.sk-estimator input.sk-toggleable__control:checked~label.sk-toggleable__label {background-color: #d4ebff;}#sk-container-id-8 div.sk-label input.sk-toggleable__control:checked~label.sk-toggleable__label {background-color: #d4ebff;}#sk-container-id-8 input.sk-hidden--visually {border: 0;clip: rect(1px 1px 1px 1px);clip: rect(1px, 1px, 1px, 1px);height: 1px;margin: -1px;overflow: hidden;padding: 0;position: absolute;width: 1px;}#sk-container-id-8 div.sk-estimator {font-family: monospace;background-color: #f0f8ff;border: 1px dotted black;border-radius: 0.25em;box-sizing: border-box;margin-bottom: 0.5em;}#sk-container-id-8 div.sk-estimator:hover {background-color: #d4ebff;}#sk-container-id-8 div.sk-parallel-item::after {content: \"\";width: 100%;border-bottom: 1px solid gray;flex-grow: 1;}#sk-container-id-8 div.sk-label:hover label.sk-toggleable__label {background-color: #d4ebff;}#sk-container-id-8 div.sk-serial::before {content: \"\";position: absolute;border-left: 1px solid gray;box-sizing: border-box;top: 0;bottom: 0;left: 50%;z-index: 0;}#sk-container-id-8 div.sk-serial {display: flex;flex-direction: column;align-items: center;background-color: white;padding-right: 0.2em;padding-left: 0.2em;position: relative;}#sk-container-id-8 div.sk-item {position: relative;z-index: 1;}#sk-container-id-8 div.sk-parallel {display: flex;align-items: stretch;justify-content: center;background-color: white;position: relative;}#sk-container-id-8 div.sk-item::before, #sk-container-id-8 div.sk-parallel-item::before {content: \"\";position: absolute;border-left: 1px solid gray;box-sizing: border-box;top: 0;bottom: 0;left: 50%;z-index: -1;}#sk-container-id-8 div.sk-parallel-item {display: flex;flex-direction: column;z-index: 1;position: relative;background-color: white;}#sk-container-id-8 div.sk-parallel-item:first-child::after {align-self: flex-end;width: 50%;}#sk-container-id-8 div.sk-parallel-item:last-child::after {align-self: flex-start;width: 50%;}#sk-container-id-8 div.sk-parallel-item:only-child::after {width: 0;}#sk-container-id-8 div.sk-dashed-wrapped {border: 1px dashed gray;margin: 0 0.4em 0.5em 0.4em;box-sizing: border-box;padding-bottom: 0.4em;background-color: white;}#sk-container-id-8 div.sk-label label {font-family: monospace;font-weight: bold;display: inline-block;line-height: 1.2em;}#sk-container-id-8 div.sk-label-container {text-align: center;}#sk-container-id-8 div.sk-container {/* jupyter's `normalize.less` sets `[hidden] { display: none; }` but bootstrap.min.css set `[hidden] { display: none !important; }` so we also need the `!important` here to be able to override the default hidden behavior on the sphinx rendered scikit-learn.org. See: https://github.com/scikit-learn/scikit-learn/issues/21755 */display: inline-block !important;position: relative;}#sk-container-id-8 div.sk-text-repr-fallback {display: none;}</style><div id=\"sk-container-id-8\" class=\"sk-top-container\"><div class=\"sk-text-repr-fallback\"><pre>KNeighborsClassifier(weights=&#x27;distance&#x27;)</pre><b>In a Jupyter environment, please rerun this cell to show the HTML representation or trust the notebook. <br />On GitHub, the HTML representation is unable to render, please try loading this page with nbviewer.org.</b></div><div class=\"sk-container\" hidden><div class=\"sk-item\"><div class=\"sk-estimator sk-toggleable\"><input class=\"sk-toggleable__control sk-hidden--visually\" id=\"sk-estimator-id-8\" type=\"checkbox\" checked><label for=\"sk-estimator-id-8\" class=\"sk-toggleable__label sk-toggleable__label-arrow\">KNeighborsClassifier</label><div class=\"sk-toggleable__content\"><pre>KNeighborsClassifier(weights=&#x27;distance&#x27;)</pre></div></div></div></div></div>"
            ],
            "text/plain": [
              "KNeighborsClassifier(weights='distance')"
            ]
          },
          "execution_count": 135,
          "metadata": {},
          "output_type": "execute_result"
        }
      ],
      "source": [
        "knn.fit(x_train, y_train)"
      ]
    },
    {
      "cell_type": "code",
      "execution_count": 136,
      "metadata": {
        "id": "eoGN6meXswUV"
      },
      "outputs": [],
      "source": [
        "y_pred = knn.predict(x_test)"
      ]
    },
    {
      "cell_type": "code",
      "execution_count": 137,
      "metadata": {
        "colab": {
          "base_uri": "https://localhost:8080/"
        },
        "id": "Ifk7hvPc0wej",
        "outputId": "f8a33566-a3c8-44f9-ecba-22d817c64853"
      },
      "outputs": [
        {
          "data": {
            "text/plain": [
              "array([[-0.79649853, -0.86054923],\n",
              "       [-0.26699408, -1.25232494],\n",
              "       [ 0.23229813, -1.1953801 ],\n",
              "       [ 1.00219673,  0.0349556 ],\n",
              "       [-0.30370542, -0.73569422],\n",
              "       [-0.62944592, -0.27530383],\n",
              "       [ 1.83112267, -0.30183963],\n",
              "       [-0.24770808, -1.09923957],\n",
              "       [-1.37975152, -1.05707792],\n",
              "       [-0.66427476,  0.2352948 ],\n",
              "       [ 0.73932241,  0.96624535],\n",
              "       [ 0.20586736, -0.10389964],\n",
              "       [ 0.26884553,  1.32437601],\n",
              "       [ 1.00234216,  0.34604808],\n",
              "       [-1.04641345, -0.80426248],\n",
              "       [ 1.59599221, -0.12324511],\n",
              "       [-1.8220624 ,  0.08800772],\n",
              "       [ 0.17610657,  0.12135363],\n",
              "       [ 0.72948903, -1.40667845],\n",
              "       [ 0.9307916 ,  1.54830985],\n",
              "       [ 1.50860274,  0.46717311],\n",
              "       [ 0.46901796,  1.44059575],\n",
              "       [-1.87681295, -1.19848572],\n",
              "       [-0.35583475, -0.16779254],\n",
              "       [ 0.23635927,  0.26124233],\n",
              "       [-0.36488266, -0.90009485],\n",
              "       [ 0.87781212,  0.14141816],\n",
              "       [ 0.10313553,  0.18693978],\n",
              "       [ 0.54843448, -0.42253187],\n",
              "       [ 0.21500767, -0.4041067 ],\n",
              "       [-0.60284556,  0.88180096],\n",
              "       [ 1.36581655, -0.05942122],\n",
              "       [ 0.90807027,  0.43011153],\n",
              "       [-1.20495484, -0.72155697],\n",
              "       [ 0.11045338, -1.22180721],\n",
              "       [-1.6527647 ,  1.39476761],\n",
              "       [ 0.39586697,  1.0665258 ],\n",
              "       [-0.35568763,  0.93274928],\n",
              "       [-2.24148171, -0.20361012],\n",
              "       [ 1.63142756,  0.61281843],\n",
              "       [ 0.19231052, -1.97088055],\n",
              "       [ 0.18770096, -0.67421383],\n",
              "       [-1.1205037 , -1.79421854],\n",
              "       [ 0.62200459,  1.17054354],\n",
              "       [ 1.68510317, -0.53270045],\n",
              "       [ 0.36906475, -1.50164163],\n",
              "       [-0.57235568, -0.71289815],\n",
              "       [-0.58463398,  0.17632068],\n",
              "       [-1.1868877 , -0.85899326],\n",
              "       [ 0.04001598, -0.47405665],\n",
              "       [-0.22568677, -0.69582953],\n",
              "       [ 0.68195254,  0.08420054],\n",
              "       [-0.29334745,  0.17148708],\n",
              "       [ 2.16024005,  0.91852784],\n",
              "       [ 0.57744225,  1.10180173],\n",
              "       [-0.10243782,  2.36204671],\n",
              "       [ 0.66783789,  0.60471307],\n",
              "       [-0.53600823, -0.64549987],\n",
              "       [-0.91392401,  1.34122714],\n",
              "       [-0.76692013,  0.23469336]])"
            ]
          },
          "execution_count": 137,
          "metadata": {},
          "output_type": "execute_result"
        }
      ],
      "source": [
        "x_test"
      ]
    },
    {
      "cell_type": "code",
      "execution_count": 138,
      "metadata": {
        "colab": {
          "base_uri": "https://localhost:8080/"
        },
        "id": "dakVEh1f0X0L",
        "outputId": "37a46008-3863-4cce-a3e7-eb81137611a2"
      },
      "outputs": [
        {
          "data": {
            "text/plain": [
              "array([0])"
            ]
          },
          "execution_count": 138,
          "metadata": {},
          "output_type": "execute_result"
        }
      ],
      "source": [
        "input = [[1.0, -.05]]\n",
        "ss.transform(input)\n",
        "knn.predict(input)"
      ]
    },
    {
      "cell_type": "code",
      "execution_count": 139,
      "metadata": {
        "colab": {
          "base_uri": "https://localhost:8080/"
        },
        "id": "Vr6K6lt_s1yG",
        "outputId": "21acf179-f05b-432c-c33e-ef87c6d7a8e0"
      },
      "outputs": [
        {
          "data": {
            "text/plain": [
              "0.7833333333333333"
            ]
          },
          "execution_count": 139,
          "metadata": {},
          "output_type": "execute_result"
        }
      ],
      "source": [
        "knn.score(x_test, y_test)"
      ]
    },
    {
      "cell_type": "code",
      "execution_count": 140,
      "metadata": {
        "colab": {
          "base_uri": "https://localhost:8080/",
          "height": 694
        },
        "id": "6x9PaM70tkij",
        "outputId": "732eb0c2-747f-4292-a42a-6d3ba71f7f6a"
      },
      "outputs": [
        {
          "data": {
            "text/plain": [
              "<Axes: >"
            ]
          },
          "execution_count": 140,
          "metadata": {},
          "output_type": "execute_result"
        },
        {
          "data": {
            "image/png": "[encoded data removed]",
            "text/plain": [
              "<Figure size 800x800 with 1 Axes>"
            ]
          },
          "metadata": {},
          "output_type": "display_data"
        }
      ],
      "source": [
        "fig, ax = plt.subplots(figsize = (8, 8))\n",
        "\n",
        "pd.Series(y_pred).plot(ax = ax, kind = 'line', color = 'blue', label = 'pred')\n",
        "pd.Series(y_test).plot(ax = ax, kind = 'line', color = 'orange', label = 'actual')"
      ]
    },
    {
      "cell_type": "code",
      "execution_count": 141,
      "metadata": {
        "id": "KrsRrJnStDHT"
      },
      "outputs": [],
      "source": [
        "data = pd.DataFrame(dict(x = y_test, y = y_pred))\n",
        "data = data[data['x'] != data['y']]"
      ]
    },
    {
      "cell_type": "code",
      "execution_count": 142,
      "metadata": {
        "colab": {
          "base_uri": "https://localhost:8080/",
          "height": 457
        },
        "id": "B1JEX0lKvF87",
        "outputId": "0c5d5fc3-9379-42c3-ad4e-80f5c76be971"
      },
      "outputs": [
        {
          "data": {
            "text/html": [
              "<div>\n",
              "<style scoped>\n",
              "    .dataframe tbody tr th:only-of-type {\n",
              "        vertical-align: middle;\n",
              "    }\n",
              "\n",
              "    .dataframe tbody tr th {\n",
              "        vertical-align: top;\n",
              "    }\n",
              "\n",
              "    .dataframe thead th {\n",
              "        text-align: right;\n",
              "    }\n",
              "</style>\n",
              "<table border=\"1\" class=\"dataframe\">\n",
              "  <thead>\n",
              "    <tr style=\"text-align: right;\">\n",
              "      <th></th>\n",
              "      <th>x</th>\n",
              "      <th>y</th>\n",
              "    </tr>\n",
              "  </thead>\n",
              "  <tbody>\n",
              "    <tr>\n",
              "      <th>3</th>\n",
              "      <td>1</td>\n",
              "      <td>0</td>\n",
              "    </tr>\n",
              "    <tr>\n",
              "      <th>5</th>\n",
              "      <td>1</td>\n",
              "      <td>0</td>\n",
              "    </tr>\n",
              "    <tr>\n",
              "      <th>13</th>\n",
              "      <td>0</td>\n",
              "      <td>1</td>\n",
              "    </tr>\n",
              "    <tr>\n",
              "      <th>17</th>\n",
              "      <td>1</td>\n",
              "      <td>0</td>\n",
              "    </tr>\n",
              "    <tr>\n",
              "      <th>23</th>\n",
              "      <td>0</td>\n",
              "      <td>1</td>\n",
              "    </tr>\n",
              "    <tr>\n",
              "      <th>26</th>\n",
              "      <td>1</td>\n",
              "      <td>0</td>\n",
              "    </tr>\n",
              "    <tr>\n",
              "      <th>27</th>\n",
              "      <td>1</td>\n",
              "      <td>0</td>\n",
              "    </tr>\n",
              "    <tr>\n",
              "      <th>29</th>\n",
              "      <td>1</td>\n",
              "      <td>0</td>\n",
              "    </tr>\n",
              "    <tr>\n",
              "      <th>45</th>\n",
              "      <td>1</td>\n",
              "      <td>0</td>\n",
              "    </tr>\n",
              "    <tr>\n",
              "      <th>47</th>\n",
              "      <td>0</td>\n",
              "      <td>1</td>\n",
              "    </tr>\n",
              "    <tr>\n",
              "      <th>51</th>\n",
              "      <td>1</td>\n",
              "      <td>0</td>\n",
              "    </tr>\n",
              "    <tr>\n",
              "      <th>52</th>\n",
              "      <td>1</td>\n",
              "      <td>0</td>\n",
              "    </tr>\n",
              "    <tr>\n",
              "      <th>59</th>\n",
              "      <td>0</td>\n",
              "      <td>1</td>\n",
              "    </tr>\n",
              "  </tbody>\n",
              "</table>\n",
              "</div>"
            ],
            "text/plain": [
              "    x  y\n",
              "3   1  0\n",
              "5   1  0\n",
              "13  0  1\n",
              "17  1  0\n",
              "23  0  1\n",
              "26  1  0\n",
              "27  1  0\n",
              "29  1  0\n",
              "45  1  0\n",
              "47  0  1\n",
              "51  1  0\n",
              "52  1  0\n",
              "59  0  1"
            ]
          },
          "execution_count": 142,
          "metadata": {},
          "output_type": "execute_result"
        }
      ],
      "source": [
        "data"
      ]
    },
    {
      "cell_type": "code",
      "execution_count": 143,
      "metadata": {
        "colab": {
          "base_uri": "https://localhost:8080/"
        },
        "id": "s1G_7tFwvNbh",
        "outputId": "63565d8a-8669-443b-8346-05cc562fb0cc"
      },
      "outputs": [
        {
          "data": {
            "text/plain": [
              "array([[25,  4],\n",
              "       [ 9, 22]], dtype=int64)"
            ]
          },
          "execution_count": 143,
          "metadata": {},
          "output_type": "execute_result"
        }
      ],
      "source": [
        "from sklearn.metrics import confusion_matrix\n",
        "confusion_matrix(y_test, y_pred)"
      ]
    },
    {
      "cell_type": "markdown",
      "metadata": {
        "id": "5oUQD3eK1MBn"
      },
      "source": [
        "KNN regression"
      ]
    },
    {
      "cell_type": "code",
      "execution_count": 144,
      "metadata": {
        "id": "B5b4ulB_GQAu"
      },
      "outputs": [],
      "source": [
        "from sklearn.datasets import make_regression\n",
        "x_train, y_train = make_regression(n_samples = 300, n_features = 2, n_informative=2, noise = 5, bias = 30, random_state = 200)"
      ]
    },
    {
      "cell_type": "code",
      "execution_count": 145,
      "metadata": {},
      "outputs": [],
      "source": [
        "df = pd.DataFrame(x_train, columns = ['x', 'y']).assign(label = y_train)"
      ]
    },
    {
      "cell_type": "code",
      "execution_count": 146,
      "metadata": {},
      "outputs": [],
      "source": [
        "x_train, x_test, y_train, y_test = train_test_split(x_train, y_train, train_size = 0.8, random_state = 0)"
      ]
    },
    {
      "cell_type": "code",
      "execution_count": 147,
      "metadata": {
        "id": "HZMWxrq7BU0s"
      },
      "outputs": [],
      "source": [
        "from sklearn.neighbors import KNeighborsRegressor\n",
        "knr = KNeighborsRegressor(n_neighbors = 5, weights='distance')"
      ]
    },
    {
      "cell_type": "code",
      "execution_count": 148,
      "metadata": {},
      "outputs": [],
      "source": [
        "x_test = ss.fit_transform(x_test)\n",
        "x_train = ss.transform(x_train)"
      ]
    },
    {
      "cell_type": "code",
      "execution_count": 149,
      "metadata": {
        "colab": {
          "base_uri": "https://localhost:8080/",
          "height": 74
        },
        "id": "V-IQZvppFKRj",
        "outputId": "a8e73b83-72a2-4e22-9f29-92c7cc0a927f"
      },
      "outputs": [
        {
          "data": {
            "text/html": [
              "<style>#sk-container-id-9 {color: black;}#sk-container-id-9 pre{padding: 0;}#sk-container-id-9 div.sk-toggleable {background-color: white;}#sk-container-id-9 label.sk-toggleable__label {cursor: pointer;display: block;width: 100%;margin-bottom: 0;padding: 0.3em;box-sizing: border-box;text-align: center;}#sk-container-id-9 label.sk-toggleable__label-arrow:before {content: \"▸\";float: left;margin-right: 0.25em;color: #696969;}#sk-container-id-9 label.sk-toggleable__label-arrow:hover:before {color: black;}#sk-container-id-9 div.sk-estimator:hover label.sk-toggleable__label-arrow:before {color: black;}#sk-container-id-9 div.sk-toggleable__content {max-height: 0;max-width: 0;overflow: hidden;text-align: left;background-color: #f0f8ff;}#sk-container-id-9 div.sk-toggleable__content pre {margin: 0.2em;color: black;border-radius: 0.25em;background-color: #f0f8ff;}#sk-container-id-9 input.sk-toggleable__control:checked~div.sk-toggleable__content {max-height: 200px;max-width: 100%;overflow: auto;}#sk-container-id-9 input.sk-toggleable__control:checked~label.sk-toggleable__label-arrow:before {content: \"▾\";}#sk-container-id-9 div.sk-estimator input.sk-toggleable__control:checked~label.sk-toggleable__label {background-color: #d4ebff;}#sk-container-id-9 div.sk-label input.sk-toggleable__control:checked~label.sk-toggleable__label {background-color: #d4ebff;}#sk-container-id-9 input.sk-hidden--visually {border: 0;clip: rect(1px 1px 1px 1px);clip: rect(1px, 1px, 1px, 1px);height: 1px;margin: -1px;overflow: hidden;padding: 0;position: absolute;width: 1px;}#sk-container-id-9 div.sk-estimator {font-family: monospace;background-color: #f0f8ff;border: 1px dotted black;border-radius: 0.25em;box-sizing: border-box;margin-bottom: 0.5em;}#sk-container-id-9 div.sk-estimator:hover {background-color: #d4ebff;}#sk-container-id-9 div.sk-parallel-item::after {content: \"\";width: 100%;border-bottom: 1px solid gray;flex-grow: 1;}#sk-container-id-9 div.sk-label:hover label.sk-toggleable__label {background-color: #d4ebff;}#sk-container-id-9 div.sk-serial::before {content: \"\";position: absolute;border-left: 1px solid gray;box-sizing: border-box;top: 0;bottom: 0;left: 50%;z-index: 0;}#sk-container-id-9 div.sk-serial {display: flex;flex-direction: column;align-items: center;background-color: white;padding-right: 0.2em;padding-left: 0.2em;position: relative;}#sk-container-id-9 div.sk-item {position: relative;z-index: 1;}#sk-container-id-9 div.sk-parallel {display: flex;align-items: stretch;justify-content: center;background-color: white;position: relative;}#sk-container-id-9 div.sk-item::before, #sk-container-id-9 div.sk-parallel-item::before {content: \"\";position: absolute;border-left: 1px solid gray;box-sizing: border-box;top: 0;bottom: 0;left: 50%;z-index: -1;}#sk-container-id-9 div.sk-parallel-item {display: flex;flex-direction: column;z-index: 1;position: relative;background-color: white;}#sk-container-id-9 div.sk-parallel-item:first-child::after {align-self: flex-end;width: 50%;}#sk-container-id-9 div.sk-parallel-item:last-child::after {align-self: flex-start;width: 50%;}#sk-container-id-9 div.sk-parallel-item:only-child::after {width: 0;}#sk-container-id-9 div.sk-dashed-wrapped {border: 1px dashed gray;margin: 0 0.4em 0.5em 0.4em;box-sizing: border-box;padding-bottom: 0.4em;background-color: white;}#sk-container-id-9 div.sk-label label {font-family: monospace;font-weight: bold;display: inline-block;line-height: 1.2em;}#sk-container-id-9 div.sk-label-container {text-align: center;}#sk-container-id-9 div.sk-container {/* jupyter's `normalize.less` sets `[hidden] { display: none; }` but bootstrap.min.css set `[hidden] { display: none !important; }` so we also need the `!important` here to be able to override the default hidden behavior on the sphinx rendered scikit-learn.org. See: https://github.com/scikit-learn/scikit-learn/issues/21755 */display: inline-block !important;position: relative;}#sk-container-id-9 div.sk-text-repr-fallback {display: none;}</style><div id=\"sk-container-id-9\" class=\"sk-top-container\"><div class=\"sk-text-repr-fallback\"><pre>KNeighborsRegressor(weights=&#x27;distance&#x27;)</pre><b>In a Jupyter environment, please rerun this cell to show the HTML representation or trust the notebook. <br />On GitHub, the HTML representation is unable to render, please try loading this page with nbviewer.org.</b></div><div class=\"sk-container\" hidden><div class=\"sk-item\"><div class=\"sk-estimator sk-toggleable\"><input class=\"sk-toggleable__control sk-hidden--visually\" id=\"sk-estimator-id-9\" type=\"checkbox\" checked><label for=\"sk-estimator-id-9\" class=\"sk-toggleable__label sk-toggleable__label-arrow\">KNeighborsRegressor</label><div class=\"sk-toggleable__content\"><pre>KNeighborsRegressor(weights=&#x27;distance&#x27;)</pre></div></div></div></div></div>"
            ],
            "text/plain": [
              "KNeighborsRegressor(weights='distance')"
            ]
          },
          "execution_count": 149,
          "metadata": {},
          "output_type": "execute_result"
        }
      ],
      "source": [
        "knr.fit(x_train, y_train)"
      ]
    },
    {
      "cell_type": "code",
      "execution_count": 150,
      "metadata": {
        "id": "GNuofWqvFS8t"
      },
      "outputs": [],
      "source": [
        "y_pred = knr.predict(x_test)"
      ]
    },
    {
      "cell_type": "code",
      "execution_count": 151,
      "metadata": {},
      "outputs": [
        {
          "data": {
            "text/plain": [
              "array([  89.82950308,   35.00835036,  -61.18649651,  -43.39338357,\n",
              "        182.2865855 ,  135.82118452,   85.22694305,  109.04911128,\n",
              "        203.47667199,  -87.84417865,  255.08491925,  -25.04305458,\n",
              "         -4.64595793, -268.4229322 ,  -22.59865975,  243.56935958,\n",
              "        -62.67256361,  183.74617659,   63.82156848,  130.23774886,\n",
              "         -5.65479644,   51.79681487,  -23.69223729, -113.36349403,\n",
              "         31.65260868,  100.47000989,   10.28369065,  153.19859363,\n",
              "        -37.49014401,   20.83952299,  196.46484355,  310.17615892,\n",
              "        105.66873607,   67.6628919 , -146.41369216, -122.75014297,\n",
              "         74.51573452,   -7.87256453,  -39.58188787, -159.28974053,\n",
              "        -69.45335765,  220.01942786,  -72.6216825 ,  -63.04400853,\n",
              "        117.68616978,  219.75944097, -121.72215091,  -76.62718783,\n",
              "        -36.84179533,   95.37642934,  107.48546258, -213.07603953,\n",
              "        321.79388296,  242.33025739,  267.2905319 ,  -45.51289791,\n",
              "        -34.83082744,  -11.83667178,  223.96392211,  105.9207392 ])"
            ]
          },
          "execution_count": 151,
          "metadata": {},
          "output_type": "execute_result"
        }
      ],
      "source": [
        "y_pred"
      ]
    },
    {
      "cell_type": "code",
      "execution_count": 155,
      "metadata": {
        "id": "Dxg-tVKiEX3Y"
      },
      "outputs": [],
      "source": [
        "# df['y'] = df['y'].apply(lambda x: 0 if x <= 0 else 1)"
      ]
    },
    {
      "cell_type": "code",
      "execution_count": 158,
      "metadata": {},
      "outputs": [
        {
          "data": {
            "text/plain": [
              "0.981588126332967"
            ]
          },
          "execution_count": 158,
          "metadata": {},
          "output_type": "execute_result"
        }
      ],
      "source": [
        "knr.score(x_test, y_test)"
      ]
    },
    {
      "cell_type": "code",
      "execution_count": null,
      "metadata": {},
      "outputs": [],
      "source": [
        "from sklearn.datasetsimport load_iris\n",
        "iris = load_iris()\n",
        "\n",
        "df= pd.DataFrame(iris.data, columns = iris.feature_names).assign(label = iris.target)"
      ]
    }
  ],
  "metadata": {
    "colab": {
      "provenance": []
    },
    "kernelspec": {
      "display_name": "Python 3",
      "name": "python3"
    },
    "language_info": {
      "codemirror_mode": {
        "name": "ipython",
        "version": 3
      },
      "file_extension": ".py",
      "mimetype": "text/x-python",
      "name": "python",
      "nbconvert_exporter": "python",
      "pygments_lexer": "ipython3",
      "version": "3.9.13"
    }
  },
  "nbformat": 4,
  "nbformat_minor": 0
}
