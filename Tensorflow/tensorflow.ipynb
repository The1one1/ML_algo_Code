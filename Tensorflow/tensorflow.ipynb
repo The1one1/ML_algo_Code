{
  "cells": [
    {
      "cell_type": "code",
      "execution_count": 1,
      "metadata": {
        "colab": {
          "base_uri": "https://localhost:8080/"
        },
        "id": "Q5d7OcyygfgB",
        "outputId": "3c57c33e-e32c-48c8-8f56-277ed460da95"
      },
      "outputs": [
        {
          "name": "stdout",
          "output_type": "stream",
          "text": [
            "WARNING:tensorflow:From C:\\Users\\ratan\\AppData\\Local\\Packages\\PythonSoftwareFoundation.Python.3.9_qbz5n2kfra8p0\\LocalCache\\local-packages\\Python39\\site-packages\\keras\\src\\losses.py:2976: The name tf.losses.sparse_softmax_cross_entropy is deprecated. Please use tf.compat.v1.losses.sparse_softmax_cross_entropy instead.\n",
            "\n",
            "2.15.0\n"
          ]
        }
      ],
      "source": [
        "import inspect\n",
        "#import tensorflow\n",
        "import tensorflow as tf\n",
        "print(tf.__version__)"
      ]
    },
    {
      "cell_type": "code",
      "execution_count": 2,
      "metadata": {
        "id": "O9xR9LYhgrFA"
      },
      "outputs": [],
      "source": [
        "#create tensor with tf.constant()\n",
        "tensor = tf.constant([[1, 2, 3], [2, 5, 4]])"
      ]
    },
    {
      "cell_type": "code",
      "execution_count": 3,
      "metadata": {
        "colab": {
          "base_uri": "https://localhost:8080/"
        },
        "id": "SZuq2cksg6i_",
        "outputId": "bb6b82f4-5450-48b0-e509-e233643b2397"
      },
      "outputs": [
        {
          "data": {
            "text/plain": [
              "<tf.Tensor: shape=(2, 3), dtype=int32, numpy=\n",
              "array([[1, 2, 3],\n",
              "       [2, 5, 4]])>"
            ]
          },
          "execution_count": 3,
          "metadata": {},
          "output_type": "execute_result"
        }
      ],
      "source": [
        "tensor  # it contain same type of elements"
      ]
    },
    {
      "cell_type": "code",
      "execution_count": 4,
      "metadata": {
        "colab": {
          "base_uri": "https://localhost:8080/"
        },
        "id": "Tp4FFTgQhT7l",
        "outputId": "6b0cee4c-43b8-42dc-8445-0c0e01d49bff"
      },
      "outputs": [
        {
          "data": {
            "text/plain": [
              "2"
            ]
          },
          "execution_count": 4,
          "metadata": {},
          "output_type": "execute_result"
        }
      ],
      "source": [
        "# dimension (ndim stands for number of dimensions)\n",
        "tensor.ndim   # no of axes"
      ]
    },
    {
      "cell_type": "code",
      "execution_count": 5,
      "metadata": {
        "colab": {
          "base_uri": "https://localhost:8080/"
        },
        "id": "AJYQuUM8hxY3",
        "outputId": "58e578a7-1557-45fb-cccc-e357c594896b"
      },
      "outputs": [
        {
          "data": {
            "text/plain": [
              "TensorShape([2, 3])"
            ]
          },
          "execution_count": 5,
          "metadata": {},
          "output_type": "execute_result"
        }
      ],
      "source": [
        "tensor.shape  #(row, column)"
      ]
    },
    {
      "cell_type": "code",
      "execution_count": 6,
      "metadata": {
        "colab": {
          "base_uri": "https://localhost:8080/"
        },
        "id": "fyOySro5h4JJ",
        "outputId": "0dc83ac7-2f32-47a8-c803-d0ceb7dac6ae"
      },
      "outputs": [
        {
          "data": {
            "text/plain": [
              "tensorflow.python.framework.ops.EagerTensor"
            ]
          },
          "execution_count": 6,
          "metadata": {},
          "output_type": "execute_result"
        }
      ],
      "source": [
        "type(tensor) #  tensor datatype"
      ]
    },
    {
      "cell_type": "code",
      "execution_count": 7,
      "metadata": {
        "colab": {
          "base_uri": "https://localhost:8080/"
        },
        "id": "9KaFlpCjh7HO",
        "outputId": "fd2d1a73-6dc6-4697-b782-1aa68f079e43"
      },
      "outputs": [
        {
          "data": {
            "text/plain": [
              "tf.int32"
            ]
          },
          "execution_count": 7,
          "metadata": {},
          "output_type": "execute_result"
        }
      ],
      "source": [
        "tensor.dtype # elements datatype"
      ]
    },
    {
      "cell_type": "code",
      "execution_count": 8,
      "metadata": {
        "colab": {
          "base_uri": "https://localhost:8080/",
          "height": 321
        },
        "id": "XUJ4MrN30_wE",
        "outputId": "1a9e41f8-bcdf-49a5-d42d-1d41340fa5c3"
      },
      "outputs": [],
      "source": [
        "# tensor.name"
      ]
    },
    {
      "cell_type": "code",
      "execution_count": 9,
      "metadata": {
        "colab": {
          "base_uri": "https://localhost:8080/"
        },
        "id": "NlYehAPqiP6I",
        "outputId": "d0d9dd8a-a090-493d-ca89-baed0dbf6b21"
      },
      "outputs": [
        {
          "data": {
            "text/plain": [
              "<tf.Tensor: shape=(3, 2), dtype=float16, numpy=\n",
              "array([[10.,  7.],\n",
              "       [ 3.,  4.],\n",
              "       [ 6.,  3.]], dtype=float16)>"
            ]
          },
          "execution_count": 9,
          "metadata": {},
          "output_type": "execute_result"
        }
      ],
      "source": [
        "#martrix\n",
        "\n",
        "matrix = tf.constant([[10, 7],\n",
        "                     [3, 4],\n",
        "                     [6, 3]], dtype = tf.float16) # specify the data type with\n",
        "\n",
        "matrix"
      ]
    },
    {
      "cell_type": "code",
      "execution_count": 10,
      "metadata": {
        "colab": {
          "base_uri": "https://localhost:8080/"
        },
        "id": "4-4b6XBoiweu",
        "outputId": "3957bf78-a640-40be-dc72-b7de1619b8bd"
      },
      "outputs": [
        {
          "data": {
            "text/plain": [
              "2"
            ]
          },
          "execution_count": 10,
          "metadata": {},
          "output_type": "execute_result"
        }
      ],
      "source": [
        "matrix.ndim"
      ]
    },
    {
      "cell_type": "code",
      "execution_count": 11,
      "metadata": {
        "colab": {
          "base_uri": "https://localhost:8080/"
        },
        "id": "RcjHKQrvi3Gn",
        "outputId": "3894b8f8-8eda-4d1d-81d7-ef0b1bf7dade"
      },
      "outputs": [
        {
          "data": {
            "text/plain": [
              "<tf.Tensor: shape=(3, 3), dtype=float16, numpy=\n",
              "array([[10.,  7.,  6.],\n",
              "       [ 3.,  4.,  4.],\n",
              "       [ 6.,  3.,  9.]], dtype=float16)>"
            ]
          },
          "execution_count": 11,
          "metadata": {},
          "output_type": "execute_result"
        }
      ],
      "source": [
        "#martrix\n",
        "\n",
        "matrix = tf.constant([[10, 7, 6],\n",
        "                     [3, 4, 4],\n",
        "                     [6, 3, 9]], dtype = tf.float16) # specify the data type with\n",
        "\n",
        "matrix"
      ]
    },
    {
      "cell_type": "code",
      "execution_count": 12,
      "metadata": {
        "colab": {
          "base_uri": "https://localhost:8080/"
        },
        "id": "YPlbDXd4i3DH",
        "outputId": "1c887174-9ad9-4709-e4d5-e837a824dc05"
      },
      "outputs": [
        {
          "data": {
            "text/plain": [
              "2"
            ]
          },
          "execution_count": 12,
          "metadata": {},
          "output_type": "execute_result"
        }
      ],
      "source": [
        "matrix.ndim"
      ]
    },
    {
      "cell_type": "code",
      "execution_count": 13,
      "metadata": {
        "colab": {
          "base_uri": "https://localhost:8080/"
        },
        "id": "uiIgbBSui3AF",
        "outputId": "c309b1f4-4936-4f1f-f158-bfb50f84a1e2"
      },
      "outputs": [
        {
          "data": {
            "text/plain": [
              "<tf.Tensor: shape=(3, 2, 3), dtype=int32, numpy=\n",
              "array([[[1, 2, 4],\n",
              "        [2, 3, 4]],\n",
              "\n",
              "       [[1, 2, 3],\n",
              "        [3, 2, 4]],\n",
              "\n",
              "       [[5, 2, 5],\n",
              "        [5, 3, 6]]])>"
            ]
          },
          "execution_count": 13,
          "metadata": {},
          "output_type": "execute_result"
        }
      ],
      "source": [
        "matrix = tf.constant([[[1, 2, 4],\n",
        "                        [2, 3,4]],\n",
        "                      [[1, 2, 3],\n",
        "                       [3, 2, 4]],\n",
        "                      [[5, 2, 5],\n",
        "                       [5, 3, 6]]])\n",
        "matrix"
      ]
    },
    {
      "cell_type": "code",
      "execution_count": 14,
      "metadata": {
        "colab": {
          "base_uri": "https://localhost:8080/"
        },
        "id": "Mv-Qw36Ni29A",
        "outputId": "c092528f-3e8b-493e-bca8-19715f9ad9ce"
      },
      "outputs": [
        {
          "data": {
            "text/plain": [
              "3"
            ]
          },
          "execution_count": 14,
          "metadata": {},
          "output_type": "execute_result"
        }
      ],
      "source": [
        "matrix.ndim"
      ]
    },
    {
      "cell_type": "code",
      "execution_count": 15,
      "metadata": {
        "id": "QcQb03Esi26N"
      },
      "outputs": [],
      "source": [
        "tensor = tf.constant(4)"
      ]
    },
    {
      "cell_type": "code",
      "execution_count": 16,
      "metadata": {
        "colab": {
          "base_uri": "https://localhost:8080/"
        },
        "id": "TBKmw00YIqpb",
        "outputId": "c8a68fc5-fcc9-4fb2-ffa7-131014c3efdf"
      },
      "outputs": [
        {
          "data": {
            "text/plain": [
              "<tf.Tensor: shape=(), dtype=int32, numpy=4>"
            ]
          },
          "execution_count": 16,
          "metadata": {},
          "output_type": "execute_result"
        }
      ],
      "source": [
        "tensor"
      ]
    },
    {
      "cell_type": "code",
      "execution_count": 17,
      "metadata": {
        "colab": {
          "base_uri": "https://localhost:8080/"
        },
        "id": "FRm4P2uLi23q",
        "outputId": "8b7f7b03-a38c-4172-e123-f1fa55ab4ae7"
      },
      "outputs": [
        {
          "data": {
            "text/plain": [
              "0"
            ]
          },
          "execution_count": 17,
          "metadata": {},
          "output_type": "execute_result"
        }
      ],
      "source": [
        "tensor.ndim"
      ]
    },
    {
      "cell_type": "code",
      "execution_count": 18,
      "metadata": {
        "colab": {
          "base_uri": "https://localhost:8080/"
        },
        "id": "zgGUElcjIz7_",
        "outputId": "861bc3c1-27cd-4cf5-890f-d9cb7ce87e0c"
      },
      "outputs": [
        {
          "data": {
            "text/plain": [
              "<tf.Tensor: shape=(1,), dtype=int32, numpy=array([3])>"
            ]
          },
          "execution_count": 18,
          "metadata": {},
          "output_type": "execute_result"
        }
      ],
      "source": [
        "tensor = tf.constant([3])\n",
        "tensor"
      ]
    },
    {
      "cell_type": "code",
      "execution_count": 19,
      "metadata": {
        "colab": {
          "base_uri": "https://localhost:8080/"
        },
        "id": "4tbqUMVOw8Ou",
        "outputId": "f909bb43-31b8-44cd-aebf-0ad88d6d3c37"
      },
      "outputs": [
        {
          "data": {
            "text/plain": [
              "tf.int32"
            ]
          },
          "execution_count": 19,
          "metadata": {},
          "output_type": "execute_result"
        }
      ],
      "source": [
        "tensor.dtype"
      ]
    },
    {
      "cell_type": "code",
      "execution_count": 20,
      "metadata": {
        "colab": {
          "base_uri": "https://localhost:8080/"
        },
        "id": "JiL6U-QWIz4X",
        "outputId": "51360304-4af7-4cf4-fde0-e06bbd746365"
      },
      "outputs": [
        {
          "data": {
            "text/plain": [
              "1"
            ]
          },
          "execution_count": 20,
          "metadata": {},
          "output_type": "execute_result"
        }
      ],
      "source": [
        "tensor.ndim"
      ]
    },
    {
      "cell_type": "code",
      "execution_count": 21,
      "metadata": {
        "colab": {
          "base_uri": "https://localhost:8080/"
        },
        "id": "J9kJMLkQIz1h",
        "outputId": "5592e8f7-522a-411a-9ede-6edaf2c61d68"
      },
      "outputs": [
        {
          "data": {
            "text/plain": [
              "<function tensorflow.python.framework.constant_op.constant(value, dtype=None, shape=None, name='Const') -> Union[tensorflow.python.framework.ops.Operation, tensorflow.python.framework.ops._EagerTensorBase]>"
            ]
          },
          "execution_count": 21,
          "metadata": {},
          "output_type": "execute_result"
        }
      ],
      "source": [
        "tf.constant"
      ]
    },
    {
      "cell_type": "code",
      "execution_count": 22,
      "metadata": {
        "colab": {
          "base_uri": "https://localhost:8080/"
        },
        "id": "kZZ2Z1tlJHt5",
        "outputId": "a69a3a1b-cb3f-4147-ebaa-2cc3db94ee45"
      },
      "outputs": [
        {
          "data": {
            "text/plain": [
              "tensorflow.python.ops.variables.Variable"
            ]
          },
          "execution_count": 22,
          "metadata": {},
          "output_type": "execute_result"
        }
      ],
      "source": [
        "tf.Variable"
      ]
    },
    {
      "cell_type": "markdown",
      "metadata": {},
      "source": [
        "<center style=\"color:white; background-color: #006a4e\">tf.Variable </center>\n",
        "\n",
        "* It's a <u style=\"color:#006a4e\">class</u> used to create mutable tensor objects \n",
        "\n",
        "The `tf.Variable` class in TensorFlow has several methods and attributes.\n",
        "\n",
        "Methods:\n",
        "- `assign(value)`: Assigns a new value to the variable.\n",
        "- `assign_add(delta)`: Adds a value to the variable and assigns the result back to the variable.\n",
        "- `assign_sub(delta)`: Subtracts a value from the variable and assigns the result back to the variable.\n",
        "- `read_value()`: Returns the current value of the variable.\n",
        "\n",
        "Attributes:\n",
        "- `dtype`: The data type of the variable.\n",
        "- `shape`: The shape of the variable.\n",
        "- `name`: The name of the variable.\n",
        "- `device`: The device on which this variable will be placed.\n",
        "\n",
        "<center style=\"color:white; background-color: #006a4e\">tf.Constant </center>\n",
        "\n",
        "* It's a <u style = \"color:#006a4e\">function</u> used to create immutable tensor objects (constants)."
      ]
    },
    {
      "cell_type": "code",
      "execution_count": 23,
      "metadata": {
        "colab": {
          "base_uri": "https://localhost:8080/"
        },
        "id": "GeHdTjuqw3uG",
        "outputId": "beaf38b8-c228-4bfa-ca52-c23ac097777b"
      },
      "outputs": [
        {
          "data": {
            "text/plain": [
              "(<tf.Variable 'Variable:0' shape=(2,) dtype=int32, numpy=array([3, 4])>,\n",
              " <tf.Tensor: shape=(2,), dtype=int32, numpy=array([3, 4])>)"
            ]
          },
          "execution_count": 23,
          "metadata": {},
          "output_type": "execute_result"
        }
      ],
      "source": [
        "changeable_tensor = tf.Variable([3, 4])\n",
        "unchangeable_tensor = tf.constant([3, 4])\n",
        "changeable_tensor, unchangeable_tensor"
      ]
    },
    {
      "cell_type": "code",
      "execution_count": 24,
      "metadata": {
        "colab": {
          "base_uri": "https://localhost:8080/"
        },
        "id": "wWjERJnWDqtl",
        "outputId": "2e97ed38-80c6-4cea-8b14-41c7799ea380"
      },
      "outputs": [
        {
          "name": "stdout",
          "output_type": "stream",
          "text": [
            "<class 'tensorflow.python.ops.resource_variable_ops.ResourceVariable'>\n",
            "<class 'tensorflow.python.framework.ops.EagerTensor'>\n"
          ]
        }
      ],
      "source": [
        "print(type(changeable_tensor))\n",
        "print(type(unchangeable_tensor))"
      ]
    },
    {
      "cell_type": "code",
      "execution_count": 25,
      "metadata": {
        "colab": {
          "base_uri": "https://localhost:8080/"
        },
        "id": "6as16iz4IGoA",
        "outputId": "7ce13492-7b43-408e-8d6e-278171c7086c"
      },
      "outputs": [
        {
          "data": {
            "text/plain": [
              "<tf.Variable 'UnreadVariable' shape=(2,) dtype=int32, numpy=array([2, 4])>"
            ]
          },
          "execution_count": 25,
          "metadata": {},
          "output_type": "execute_result"
        }
      ],
      "source": [
        "changeable_tensor[0].assign(2)"
      ]
    },
    {
      "cell_type": "markdown",
      "metadata": {},
      "source": [
        "<div style=\"color:white; background-color: #006a4e\">\n",
        "\n",
        "<b>Note:</b> Remember that the `tf.constant` function takes a tensor as an argument, not a Python value.\n",
        "- Rarely in practice will you need to decide whether to use a `tf.Variable` or a `tf.constant` because TensorFlow does this for you.\n",
        "- However, if you want to create a constant tensor that lives on the GPU, you need to use a `tf.constant`.\n",
        "\n",
        "</div>"
      ]
    },
    {
      "cell_type": "markdown",
      "metadata": {},
      "source": [
        "<center style=\"color:white; background-color: #006a4e\">Random Tensor</center>"
      ]
    },
    {
      "cell_type": "markdown",
      "metadata": {},
      "source": [
        "- Tensors can be created with random values by using the `tf.random` module."
      ]
    },
    {
      "cell_type": "markdown",
      "metadata": {},
      "source": [
        "<div style=\"color:white; background-color: #006a4e\">\n",
        "\n",
        "- The keyword `cls` refers to the class itself. It is used as a `placeholder` for the actual class name when defining class methods. This is because class methods are not bound to a specific instance of the class, but rather to the class itself. Therefore, using `cls allows the method to be called without the need to explicitly specify the class name`.\n",
        "\n",
        "</div>"
      ]
    },
    {
      "cell_type": "markdown",
      "metadata": {},
      "source": [
        "<center style=\"color:white; background-color: #006a4e\">from_seed(cls, seed=None, **kwargs)</center>\n",
        "\n",
        "- It has `cls` as argument because it's a `class method`. That means it can directly be called from the class itself, without the need to create an instance of the class.\n",
        "- It's like an static method in C++."
      ]
    },
    {
      "cell_type": "code",
      "execution_count": 27,
      "metadata": {},
      "outputs": [
        {
          "data": {
            "text/plain": [
              "<tensorflow.python.ops.stateful_random_ops.Generator at 0x16eb858fe50>"
            ]
          },
          "execution_count": 27,
          "metadata": {},
          "output_type": "execute_result"
        }
      ],
      "source": [
        "random_1 = tf.random.Generator.from_seed(42) # set seed for reproducibility\n",
        "random_1"
      ]
    },
    {
      "cell_type": "code",
      "execution_count": 28,
      "metadata": {},
      "outputs": [],
      "source": [
        "random_1 = random_1.normal(shape = (3, 2))"
      ]
    },
    {
      "cell_type": "code",
      "execution_count": 29,
      "metadata": {},
      "outputs": [
        {
          "data": {
            "text/plain": [
              "<tf.Tensor: shape=(3, 2), dtype=float32, numpy=\n",
              "array([[-0.7565803 , -0.06854702],\n",
              "       [ 0.07595026, -1.2573844 ],\n",
              "       [-0.23193763, -1.8107855 ]], dtype=float32)>"
            ]
          },
          "execution_count": 29,
          "metadata": {},
          "output_type": "execute_result"
        }
      ],
      "source": [
        "random_1"
      ]
    },
    {
      "cell_type": "code",
      "execution_count": 37,
      "metadata": {},
      "outputs": [
        {
          "name": "stdout",
          "output_type": "stream",
          "text": [
            "(seed, alg=None)\n"
          ]
        }
      ],
      "source": [
        "print(inspect.signature(tf.random.Generator.from_seed))"
      ]
    },
    {
      "cell_type": "code",
      "execution_count": 38,
      "metadata": {},
      "outputs": [
        {
          "data": {
            "text/plain": [
              "<tf.Tensor: shape=(3, 2), dtype=float32, numpy=\n",
              "array([[-0.7565803 , -0.06854702],\n",
              "       [ 0.07595026, -1.2573844 ],\n",
              "       [-0.23193763, -1.8107855 ]], dtype=float32)>"
            ]
          },
          "execution_count": 38,
          "metadata": {},
          "output_type": "execute_result"
        }
      ],
      "source": [
        "random_2 = tf.random.Generator.from_seed(42)\n",
        "random_2 = random_2.normal(shape = (3, 2))\n",
        "random_2"
      ]
    },
    {
      "cell_type": "code",
      "execution_count": 39,
      "metadata": {},
      "outputs": [
        {
          "data": {
            "text/plain": [
              "<tf.Tensor: shape=(3, 2), dtype=bool, numpy=\n",
              "array([[ True,  True],\n",
              "       [ True,  True],\n",
              "       [ True,  True]])>"
            ]
          },
          "execution_count": 39,
          "metadata": {},
          "output_type": "execute_result"
        }
      ],
      "source": [
        "random_1 == random_2"
      ]
    },
    {
      "cell_type": "code",
      "execution_count": 43,
      "metadata": {},
      "outputs": [
        {
          "data": {
            "text/plain": [
              "(<tf.Tensor: shape=(3, 2), dtype=float32, numpy=\n",
              " array([[-0.7565803 , -0.06854702],\n",
              "        [ 0.07595026, -1.2573844 ],\n",
              "        [-0.23193763, -1.8107855 ]], dtype=float32)>,\n",
              " <tf.Tensor: shape=(3, 2), dtype=float32, numpy=\n",
              " array([[ 0.27305737, -0.29925638],\n",
              "        [-0.3652325 ,  0.61883307],\n",
              "        [-1.0130816 ,  0.28291714]], dtype=float32)>,\n",
              " <tf.Tensor: shape=(3, 2), dtype=bool, numpy=\n",
              " array([[False, False],\n",
              "        [False, False],\n",
              "        [False, False]])>)"
            ]
          },
          "execution_count": 43,
          "metadata": {},
          "output_type": "execute_result"
        }
      ],
      "source": [
        "random_1 = tf.random.Generator.from_seed(42)\n",
        "Random_1 = random_1.normal(shape = (3, 2))\n",
        "\n",
        "random_2 = tf.random.Generator.from_seed(11)\n",
        "Random_2 = random_2.normal(shape = (3, 2))\n",
        "\n",
        "Random_1, Random_2, Random_1 == Random_2"
      ]
    },
    {
      "cell_type": "code",
      "execution_count": 44,
      "metadata": {},
      "outputs": [
        {
          "data": {
            "text/plain": [
              "(<tf.Tensor: shape=(3, 2), dtype=float32, numpy=\n",
              " array([[ 0.17522676,  0.71105534],\n",
              "        [ 0.54882437,  0.14896014],\n",
              "        [-0.54757965,  0.61634356]], dtype=float32)>,\n",
              " <tf.Tensor: shape=(3, 2), dtype=float32, numpy=\n",
              " array([[ 0.27305737, -0.29925638],\n",
              "        [-0.3652325 ,  0.61883307],\n",
              "        [-1.0130816 ,  0.28291714]], dtype=float32)>,\n",
              " <tf.Tensor: shape=(3, 2), dtype=bool, numpy=\n",
              " array([[False, False],\n",
              "        [False, False],\n",
              "        [False, False]])>)"
            ]
          },
          "execution_count": 44,
          "metadata": {},
          "output_type": "execute_result"
        }
      ],
      "source": [
        "Random_1 = random_1.normal(shape = (3, 2))\n",
        "Random_1, Random_2, Random_1 == Random_2"
      ]
    },
    {
      "cell_type": "code",
      "execution_count": 47,
      "metadata": {},
      "outputs": [
        {
          "data": {
            "text/plain": [
              "2"
            ]
          },
          "execution_count": 47,
          "metadata": {},
          "output_type": "execute_result"
        }
      ],
      "source": [
        "# shuffle the order of elements in a tensor\n",
        "not_shuffled = tf.constant([[10, 7],\n",
        "                            [3, 4],\n",
        "                            [2, 5]])\n",
        "not_shuffled.ndim # 2"
      ]
    },
    {
      "cell_type": "markdown",
      "metadata": {},
      "source": [
        "- tf.random.shuffle: Randomly shuffles a tensor along its first dimension(row)."
      ]
    },
    {
      "cell_type": "code",
      "execution_count": 57,
      "metadata": {},
      "outputs": [
        {
          "data": {
            "text/plain": [
              "<tf.Tensor: shape=(3, 2), dtype=int32, numpy=\n",
              "array([[ 3,  4],\n",
              "       [ 2,  5],\n",
              "       [10,  7]])>"
            ]
          },
          "execution_count": 57,
          "metadata": {},
          "output_type": "execute_result"
        }
      ],
      "source": [
        "tf.random.set_seed(42) # global level random seed\n",
        "shuffled = tf.random.shuffle(not_shuffled)\n",
        "shuffled"
      ]
    },
    {
      "cell_type": "markdown",
      "metadata": {},
      "source": [
        "<center style=\"color:white; background-color: #006a4e\">Tensor From Numpy</center>"
      ]
    },
    {
      "cell_type": "code",
      "execution_count": 49,
      "metadata": {},
      "outputs": [
        {
          "data": {
            "text/plain": [
              "<tf.Tensor: shape=(3, 2), dtype=int32, numpy=\n",
              "array([[ 2,  5],\n",
              "       [ 3,  4],\n",
              "       [10,  7]])>"
            ]
          },
          "execution_count": 49,
          "metadata": {},
          "output_type": "execute_result"
        }
      ],
      "source": []
    }
  ],
  "metadata": {
    "colab": {
      "provenance": []
    },
    "kernelspec": {
      "display_name": "Python 3",
      "name": "python3"
    },
    "language_info": {
      "codemirror_mode": {
        "name": "ipython",
        "version": 3
      },
      "file_extension": ".py",
      "mimetype": "text/x-python",
      "name": "python",
      "nbconvert_exporter": "python",
      "pygments_lexer": "ipython3",
      "version": "3.9.13"
    }
  },
  "nbformat": 4,
  "nbformat_minor": 0
}
